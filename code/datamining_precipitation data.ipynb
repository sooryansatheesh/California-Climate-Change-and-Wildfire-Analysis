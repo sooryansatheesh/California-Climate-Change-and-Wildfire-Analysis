{
 "cells": [
  {
   "cell_type": "code",
   "execution_count": 7,
   "id": "1613fbf9",
   "metadata": {},
   "outputs": [],
   "source": [
    "import pandas as pd\n",
    "# import data\n",
    "path=\"D:\\\\Spring2023\\\\INFO 247\\\\Assignments\\\\Final Assignment\\\\Analysis\\\\Precipitation Data\\\\CSVfilesDummy\\\\\"\n",
    "# file=\"Alameda.csv\"\n",
    "# for file in myfiles:\n",
    "#     lines = open(file).readlines()\n",
    "#     open(file, 'w').writelines(lines[3:]) //to delete first four lines\n",
    "allcountyfilenames=['Alameda.csv', 'Alpine.csv', 'Amador.csv', 'Butte.csv', 'Calaveras.csv', 'Colusa.csv', 'Contra Costa.csv', 'Del Norte.csv', 'El Dorado.csv', 'Fresno.csv', 'Glenn.csv', 'Humboldt.csv', 'Imperial.csv', 'Inyo.csv', 'Kern.csv', 'Kings.csv', 'Lake.csv', 'Lassen.csv', 'Los Angeles.csv', 'Madera.csv', 'Marin.csv', 'Mariposa.csv', 'Mendocino.csv', 'Merced.csv', 'Modoc.csv', 'Mono.csv', 'Monterey.csv', 'Napa.csv', 'Nevada.csv', 'Orange.csv', 'Placer.csv', 'Plumas.csv', 'Riverside.csv', 'Sacramento.csv', 'San Benito.csv', 'San Bernardino.csv', 'San Diego.csv', 'San Francisco.csv', 'San Joaquin.csv', 'San Luis Obispo.csv', 'San Mateo.csv', 'Santa Barbara.csv', 'Santa Clara.csv', 'Santa Cruz.csv', 'Shasta.csv', 'Sierra.csv', 'Siskiyou.csv', 'Solano.csv', 'Sonoma.csv', 'Stanislaus.csv', 'Sutter.csv', 'Tehama.csv', 'Trinity.csv', 'Tulare.csv', 'Tuolumne.csv', 'Ventura.csv', 'Yolo.csv', 'Yuba.csv']\n",
    "for file in allcountyfilenames:\n",
    "    lines = open(path+file).readlines()\n",
    "    open(path+file, 'w').writelines(lines[4:])"
   ]
  },
  {
   "cell_type": "code",
   "execution_count": 8,
   "id": "8cf57a44",
   "metadata": {},
   "outputs": [],
   "source": [
    "def df_to_append(filename):\n",
    "    #function accepts a csv file, cleans it and processes it as per requirement and then\n",
    "    #returns a dataframe that will be appended to the main dataframe \"df_allcounties\"\n",
    "    path=\"D:\\\\Spring2023\\\\INFO 247\\\\Assignments\\\\Final Assignment\\\\Analysis\\\\Precipitation Data\\\\CSVfilesDummy\\\\\"\n",
    "    df = pd.read_csv(path+filename)\n",
    "    df['Date']=df['Date'].astype(str) #converting the date field to string\n",
    "    df['year']=df['Date'].apply(lambda x:x[:-2]) #creating year by removing the last two numbers representing the month from the \"date\" field\n",
    "    df['Month']=df['Date'].apply(lambda x:x[-2:])#separating the last two digits representing month\n",
    "    df=df.drop(['Date'],axis=1)\n",
    "#     df['season']=\"Summer\"\n",
    "    df['county']=filename[:-4] #adding the county name by slicing the \".csv\" from the filename\n",
    "    return df"
   ]
  },
  {
   "cell_type": "code",
   "execution_count": 9,
   "id": "2122845c",
   "metadata": {},
   "outputs": [],
   "source": [
    "# creating a new dataframe for storing data  of 58 counties, it has the same column names as the required dataframe\n",
    "df_allcounties = pd.DataFrame(columns =['Value', 'Anomaly', 'year', 'Month', 'county'])"
   ]
  },
  {
   "cell_type": "code",
   "execution_count": 10,
   "id": "e6ccd184",
   "metadata": {},
   "outputs": [],
   "source": [
    "for filename in allcountyfilenames:\n",
    "    df_allcounties=pd.concat([df_allcounties,df_to_append(filename)], axis=0)"
   ]
  },
  {
   "cell_type": "code",
   "execution_count": 11,
   "id": "eb449180",
   "metadata": {},
   "outputs": [
    {
     "data": {
      "text/plain": [
       "(89262, 5)"
      ]
     },
     "execution_count": 11,
     "metadata": {},
     "output_type": "execute_result"
    }
   ],
   "source": [
    "df_allcounties.shape"
   ]
  },
  {
   "cell_type": "code",
   "execution_count": 12,
   "id": "7977dc7f",
   "metadata": {},
   "outputs": [
    {
     "data": {
      "text/plain": [
       "Index(['Value', 'Anomaly', 'year', 'Month', 'county'], dtype='object')"
      ]
     },
     "execution_count": 12,
     "metadata": {},
     "output_type": "execute_result"
    }
   ],
   "source": [
    "df_allcounties.columns"
   ]
  },
  {
   "cell_type": "code",
   "execution_count": 13,
   "id": "a46cdc2f",
   "metadata": {},
   "outputs": [
    {
     "data": {
      "text/plain": [
       "58"
      ]
     },
     "execution_count": 13,
     "metadata": {},
     "output_type": "execute_result"
    }
   ],
   "source": [
    "#checking if all the counties are there in the df_allcounties dataframe\n",
    "# dfcounty.NAME.unique()\n",
    "df_allcounties.county.unique()\n",
    "len(df_allcounties.county.unique())"
   ]
  },
  {
   "cell_type": "code",
   "execution_count": 14,
   "id": "c86f2df4",
   "metadata": {},
   "outputs": [
    {
     "data": {
      "text/html": [
       "<div>\n",
       "<style scoped>\n",
       "    .dataframe tbody tr th:only-of-type {\n",
       "        vertical-align: middle;\n",
       "    }\n",
       "\n",
       "    .dataframe tbody tr th {\n",
       "        vertical-align: top;\n",
       "    }\n",
       "\n",
       "    .dataframe thead th {\n",
       "        text-align: right;\n",
       "    }\n",
       "</style>\n",
       "<table border=\"1\" class=\"dataframe\">\n",
       "  <thead>\n",
       "    <tr style=\"text-align: right;\">\n",
       "      <th></th>\n",
       "      <th>Value</th>\n",
       "      <th>Anomaly</th>\n",
       "      <th>year</th>\n",
       "      <th>Month</th>\n",
       "      <th>county</th>\n",
       "    </tr>\n",
       "  </thead>\n",
       "  <tbody>\n",
       "    <tr>\n",
       "      <th>0</th>\n",
       "      <td>8.43</td>\n",
       "      <td>4.46</td>\n",
       "      <td>1895</td>\n",
       "      <td>01</td>\n",
       "      <td>Alameda</td>\n",
       "    </tr>\n",
       "    <tr>\n",
       "      <th>1</th>\n",
       "      <td>2.09</td>\n",
       "      <td>-1.25</td>\n",
       "      <td>1895</td>\n",
       "      <td>02</td>\n",
       "      <td>Alameda</td>\n",
       "    </tr>\n",
       "    <tr>\n",
       "      <th>2</th>\n",
       "      <td>1.97</td>\n",
       "      <td>-0.90</td>\n",
       "      <td>1895</td>\n",
       "      <td>03</td>\n",
       "      <td>Alameda</td>\n",
       "    </tr>\n",
       "    <tr>\n",
       "      <th>3</th>\n",
       "      <td>1.75</td>\n",
       "      <td>0.41</td>\n",
       "      <td>1895</td>\n",
       "      <td>04</td>\n",
       "      <td>Alameda</td>\n",
       "    </tr>\n",
       "    <tr>\n",
       "      <th>4</th>\n",
       "      <td>1.20</td>\n",
       "      <td>0.62</td>\n",
       "      <td>1895</td>\n",
       "      <td>05</td>\n",
       "      <td>Alameda</td>\n",
       "    </tr>\n",
       "  </tbody>\n",
       "</table>\n",
       "</div>"
      ],
      "text/plain": [
       "   Value  Anomaly  year Month   county\n",
       "0   8.43     4.46  1895    01  Alameda\n",
       "1   2.09    -1.25  1895    02  Alameda\n",
       "2   1.97    -0.90  1895    03  Alameda\n",
       "3   1.75     0.41  1895    04  Alameda\n",
       "4   1.20     0.62  1895    05  Alameda"
      ]
     },
     "execution_count": 14,
     "metadata": {},
     "output_type": "execute_result"
    }
   ],
   "source": [
    "df_allcounties.head()"
   ]
  },
  {
   "cell_type": "code",
   "execution_count": 16,
   "id": "361d9ff2",
   "metadata": {},
   "outputs": [],
   "source": [
    "df_allcounties['Month']=df_allcounties['Month'].astype(int) #converting the Month field to int"
   ]
  },
  {
   "cell_type": "code",
   "execution_count": 17,
   "id": "c650aad2",
   "metadata": {},
   "outputs": [
    {
     "data": {
      "text/plain": [
       "array(['January', 'February', 'March', 'April', 'May', 'June', 'July',\n",
       "       'August', 'September', 'October', 'November', 'December'],\n",
       "      dtype=object)"
      ]
     },
     "execution_count": 17,
     "metadata": {},
     "output_type": "execute_result"
    }
   ],
   "source": [
    "#replacing the codes of Months with full name\n",
    "#month= [\"January\",\"February\",\"March\",\"April\",\"May\",\"June\",\"July\",\"August\",\"September\",\"October\",\"November\",\"December\"]\n",
    "df_allcounties=df_allcounties.replace({\"Month\":{1:\"January\",2:\"February\",3:\"March\",4:\"April\",5:\"May\",6:\"June\",7:\"July\",8:\"August\",9:\"September\",10:\"October\",11:\"November\",12:\"December\"}})\n",
    "df_allcounties.Month.unique()"
   ]
  },
  {
   "cell_type": "code",
   "execution_count": 18,
   "id": "90dd2362",
   "metadata": {},
   "outputs": [],
   "source": [
    "# writing the df_allcounties dataframe to the a .csv file\n",
    "# Write DataFrame to CSV File with Default params.\n",
    "df_allcounties.to_csv(\"countiesMonthlyPreciptDataset.csv\")"
   ]
  },
  {
   "cell_type": "code",
   "execution_count": null,
   "id": "2f931ae1",
   "metadata": {},
   "outputs": [],
   "source": []
  }
 ],
 "metadata": {
  "kernelspec": {
   "display_name": "Python 3",
   "language": "python",
   "name": "python3"
  },
  "language_info": {
   "codemirror_mode": {
    "name": "ipython",
    "version": 3
   },
   "file_extension": ".py",
   "mimetype": "text/x-python",
   "name": "python",
   "nbconvert_exporter": "python",
   "pygments_lexer": "ipython3",
   "version": "3.9.5"
  }
 },
 "nbformat": 4,
 "nbformat_minor": 5
}
